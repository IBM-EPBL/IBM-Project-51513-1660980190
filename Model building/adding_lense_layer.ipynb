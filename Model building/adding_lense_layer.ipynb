{
  "nbformat": 4,
  "nbformat_minor": 0,
  "metadata": {
    "colab": {
      "provenance": [],
      "collapsed_sections": []
    },
    "kernelspec": {
      "name": "python3",
      "display_name": "Python 3"
    },
    "language_info": {
      "name": "python"
    }
  },
  "cells": [
    {
      "cell_type": "code",
      "execution_count": 2,
      "metadata": {
        "id": "_nL5uqLeIddu"
      },
      "outputs": [],
      "source": [
        " #add hidden Layer model.add(Dense(output_dim=150,init='uniform', activation='relu'))"
      ]
    },
    {
      "cell_type": "code",
      "source": [
        "#add output Layer model.add(Dense (output_dim=1, activation='sigmoid', init='uniform'))"
      ],
      "metadata": {
        "id": "re0rBXAONx0k"
      },
      "execution_count": 3,
      "outputs": []
    }
  ]
}